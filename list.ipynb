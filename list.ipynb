{
  "nbformat": 4,
  "nbformat_minor": 0,
  "metadata": {
    "colab": {
      "provenance": [],
      "authorship_tag": "ABX9TyPIIJSefvo/iTsgFBvtQ46B",
      "include_colab_link": true
    },
    "kernelspec": {
      "name": "python3",
      "display_name": "Python 3"
    },
    "language_info": {
      "name": "python"
    }
  },
  "cells": [
    {
      "cell_type": "markdown",
      "metadata": {
        "id": "view-in-github",
        "colab_type": "text"
      },
      "source": [
        "<a href=\"https://colab.research.google.com/github/navnt00/DS/blob/master/list.ipynb\" target=\"_parent\"><img src=\"https://colab.research.google.com/assets/colab-badge.svg\" alt=\"Open In Colab\"/></a>"
      ]
    },
    {
      "cell_type": "code",
      "execution_count": 1,
      "metadata": {
        "colab": {
          "base_uri": "https://localhost:8080/"
        },
        "id": "A__t7LmzextI",
        "outputId": "c5f4d68e-c54c-4e17-bc02-9bdde3fcdcf1"
      },
      "outputs": [
        {
          "output_type": "stream",
          "name": "stdout",
          "text": [
            "[10, 29, 39, 40]\n"
          ]
        }
      ],
      "source": [
        "c = [10 , 40 ,39 ,29]\n",
        "c.sort()\n",
        "print(c)"
      ]
    },
    {
      "cell_type": "code",
      "source": [
        "msg = 'this is nav here'\n",
        "print=(msg.upper())"
      ],
      "metadata": {
        "id": "XNDWsToKcTW-"
      },
      "execution_count": 1,
      "outputs": []
    },
    {
      "cell_type": "code",
      "source": [
        "thislist = [\"mango\" , \"apple\" , \"banana\" , \"sandwich\"]\n",
        "print(thislist)"
      ],
      "metadata": {
        "colab": {
          "base_uri": "https://localhost:8080/"
        },
        "id": "o_3ERkThcbmh",
        "outputId": "f53e6ab4-cedf-4a8c-899b-1a96c4d3ca37"
      },
      "execution_count": 1,
      "outputs": [
        {
          "output_type": "stream",
          "name": "stdout",
          "text": [
            "['mango', 'apple', 'banana', 'sandwich']\n"
          ]
        }
      ]
    },
    {
      "cell_type": "code",
      "source": [
        "thislist[2] = \"paratha\"\n",
        "print(thislist)"
      ],
      "metadata": {
        "colab": {
          "base_uri": "https://localhost:8080/"
        },
        "id": "bH4G5kaqwzoP",
        "outputId": "ce1553b8-44a9-411b-f7f9-c7d89189e778"
      },
      "execution_count": 2,
      "outputs": [
        {
          "output_type": "stream",
          "name": "stdout",
          "text": [
            "['mango', 'apple', 'paratha', 'sandwich']\n"
          ]
        }
      ]
    },
    {
      "cell_type": "code",
      "source": [
        "thislist.remove(\"paratha\")\n",
        "print(thislist)"
      ],
      "metadata": {
        "colab": {
          "base_uri": "https://localhost:8080/"
        },
        "id": "XDnWEO-hw8Of",
        "outputId": "4fad54c7-084f-4968-a53f-2bda65e29206"
      },
      "execution_count": 3,
      "outputs": [
        {
          "output_type": "stream",
          "name": "stdout",
          "text": [
            "['mango', 'apple', 'sandwich']\n"
          ]
        }
      ]
    },
    {
      "cell_type": "code",
      "source": [
        "thislist.clear()\n",
        "print(thislist)"
      ],
      "metadata": {
        "colab": {
          "base_uri": "https://localhost:8080/"
        },
        "id": "PlaqNCGRxP81",
        "outputId": "5f47780a-404f-44c4-aa9c-7777118aaaa2"
      },
      "execution_count": 4,
      "outputs": [
        {
          "output_type": "stream",
          "name": "stdout",
          "text": [
            "[]\n"
          ]
        }
      ]
    },
    {
      "cell_type": "code",
      "source": [
        "thislist = [\"banana\" , \"mango\" , \"apple\" , \"kiwi\"]\n",
        "print(thislist)"
      ],
      "metadata": {
        "colab": {
          "base_uri": "https://localhost:8080/"
        },
        "id": "J9_RM8ftxoKs",
        "outputId": "40aa03ce-bb3b-42c4-dc6d-7a400ff22445"
      },
      "execution_count": 6,
      "outputs": [
        {
          "output_type": "stream",
          "name": "stdout",
          "text": [
            "['banana', 'mango', 'apple', 'kiwi']\n"
          ]
        }
      ]
    },
    {
      "cell_type": "code",
      "source": [
        "thislist = [\"banana\" , \"mango\" , \"apple\" , \"kiwi\"]\n",
        "for x in thislist:\n",
        "  print(x)"
      ],
      "metadata": {
        "colab": {
          "base_uri": "https://localhost:8080/"
        },
        "id": "Pz-SA6NcyLHC",
        "outputId": "7adca37b-01c8-4d8b-d0d1-892e260d112f"
      },
      "execution_count": 10,
      "outputs": [
        {
          "output_type": "stream",
          "name": "stdout",
          "text": [
            "banana\n",
            "mango\n",
            "apple\n",
            "kiwi\n"
          ]
        }
      ]
    },
    {
      "cell_type": "code",
      "source": [
        "thislist = [\"banana\" , \"mango\" , \"apple\" , \"kiwi\"]\n",
        "print(thislist)"
      ],
      "metadata": {
        "colab": {
          "base_uri": "https://localhost:8080/"
        },
        "id": "wC2fy6Sxyc6I",
        "outputId": "4a7f83bf-1843-4990-bb93-28cc94dd7d81"
      },
      "execution_count": 11,
      "outputs": [
        {
          "output_type": "stream",
          "name": "stdout",
          "text": [
            "['banana', 'mango', 'apple', 'kiwi']\n"
          ]
        }
      ]
    },
    {
      "cell_type": "code",
      "source": [
        "for x in thislist:\n",
        "  print(x)"
      ],
      "metadata": {
        "colab": {
          "base_uri": "https://localhost:8080/"
        },
        "id": "msIi-yaOytq6",
        "outputId": "0a10a619-ecd5-4327-d179-84300d3dc00e"
      },
      "execution_count": 12,
      "outputs": [
        {
          "output_type": "stream",
          "name": "stdout",
          "text": [
            "banana\n",
            "mango\n",
            "apple\n",
            "kiwi\n"
          ]
        }
      ]
    },
    {
      "cell_type": "code",
      "source": [
        "fruits = [\"banana\" , \"mango\" , \"apple\" , \"kiwi\" , \"paratha\" , \"water\"]\n",
        "newlist = []\n",
        "for x in fruits:\n",
        "  if \"a\" in x:\n",
        "   newlist.append(x)\n",
        "  print(newlist)"
      ],
      "metadata": {
        "colab": {
          "base_uri": "https://localhost:8080/"
        },
        "id": "sKyI2PcayxB1",
        "outputId": "5de3195f-97e7-4a92-fc64-4f70016d40bb"
      },
      "execution_count": 18,
      "outputs": [
        {
          "output_type": "stream",
          "name": "stdout",
          "text": [
            "['banana']\n",
            "['banana', 'mango']\n",
            "['banana', 'mango', 'apple']\n",
            "['banana', 'mango', 'apple']\n",
            "['banana', 'mango', 'apple', 'paratha']\n",
            "['banana', 'mango', 'apple', 'paratha', 'water']\n"
          ]
        }
      ]
    },
    {
      "cell_type": "code",
      "source": [
        "newlist = []\n",
        "for x in fruits:\n",
        "  if \"m\" in x:\n",
        "    newlist.append(x)\n",
        "    print(newlist)"
      ],
      "metadata": {
        "colab": {
          "base_uri": "https://localhost:8080/"
        },
        "id": "Ha3GbkzPzsYb",
        "outputId": "42f5b179-b86c-4763-d158-baa6795445db"
      },
      "execution_count": 21,
      "outputs": [
        {
          "output_type": "stream",
          "name": "stdout",
          "text": [
            "['mango']\n"
          ]
        }
      ]
    },
    {
      "cell_type": "code",
      "source": [
        "newlist = []\n",
        "for x in fruits:\n",
        "  if \"b\" in x:\n",
        "    newlist.append(x)\n",
        "    print(newlist)"
      ],
      "metadata": {
        "colab": {
          "base_uri": "https://localhost:8080/"
        },
        "id": "Kj61m3he0ods",
        "outputId": "51c666be-6b6c-4d6c-fab1-87cab23e18c9"
      },
      "execution_count": 22,
      "outputs": [
        {
          "output_type": "stream",
          "name": "stdout",
          "text": [
            "['banana']\n"
          ]
        }
      ]
    },
    {
      "cell_type": "code",
      "source": [
        "newlist = []\n",
        "for x in fruits:\n",
        "  if \"r\" in x:\n",
        "    newlist.append(x)\n",
        "    print(newlist)"
      ],
      "metadata": {
        "colab": {
          "base_uri": "https://localhost:8080/"
        },
        "id": "UmqlWDbf1LFw",
        "outputId": "74621e11-70ae-4257-f475-295f00834a1b"
      },
      "execution_count": 23,
      "outputs": [
        {
          "output_type": "stream",
          "name": "stdout",
          "text": [
            "['paratha']\n",
            "['paratha', 'water']\n"
          ]
        }
      ]
    },
    {
      "cell_type": "code",
      "source": [
        "newlist= []\n",
        "newlist = [ x for x in fruits if \"r\" in x]\n",
        "print(newlist)"
      ],
      "metadata": {
        "colab": {
          "base_uri": "https://localhost:8080/"
        },
        "id": "yzHGR06U1egY",
        "outputId": "38be9f94-252c-4482-8553-fb72fb1cc772"
      },
      "execution_count": 24,
      "outputs": [
        {
          "output_type": "stream",
          "name": "stdout",
          "text": [
            "['paratha', 'water']\n"
          ]
        }
      ]
    },
    {
      "cell_type": "code",
      "source": [
        "newlist.append(\"orange\")\n",
        "print(newlist)"
      ],
      "metadata": {
        "colab": {
          "base_uri": "https://localhost:8080/"
        },
        "id": "Vn2AoZ12146z",
        "outputId": "62268dfc-d123-47e8-e0c5-8e34cae5d189"
      },
      "execution_count": 27,
      "outputs": [
        {
          "output_type": "stream",
          "name": "stdout",
          "text": [
            "['paratha', 'water', 'orange', 'orange']\n"
          ]
        }
      ]
    },
    {
      "cell_type": "code",
      "source": [
        "topical = [\"banana\" , \"mango\" , \"apple\" , \"kiwi\"]\n",
        "newlist.extend(topical)\n",
        "print(newlist)"
      ],
      "metadata": {
        "colab": {
          "base_uri": "https://localhost:8080/"
        },
        "id": "Ei0ABM2o2N8e",
        "outputId": "a29a89fb-063e-470f-def1-4ea27d722718"
      },
      "execution_count": 28,
      "outputs": [
        {
          "output_type": "stream",
          "name": "stdout",
          "text": [
            "['paratha', 'water', 'orange', 'orange', 'banana', 'mango', 'apple', 'kiwi']\n"
          ]
        }
      ]
    },
    {
      "cell_type": "code",
      "source": [
        "newlist.sort()\n",
        "print(newlist)"
      ],
      "metadata": {
        "colab": {
          "base_uri": "https://localhost:8080/"
        },
        "id": "tNHlrXLn2uY8",
        "outputId": "922f719f-a14a-4f37-efe5-4d53e0d352ce"
      },
      "execution_count": 29,
      "outputs": [
        {
          "output_type": "stream",
          "name": "stdout",
          "text": [
            "['apple', 'banana', 'kiwi', 'mango', 'orange', 'orange', 'paratha', 'water']\n"
          ]
        }
      ]
    },
    {
      "cell_type": "code",
      "source": [
        "number = [ 101 , 40 ,29 ,300 , 253]\n",
        "number.sort()\n",
        "print(number)"
      ],
      "metadata": {
        "colab": {
          "base_uri": "https://localhost:8080/"
        },
        "id": "KoB3AqRo2_KJ",
        "outputId": "1c8fc628-0a64-43c6-acfd-a7f971a5920e"
      },
      "execution_count": 30,
      "outputs": [
        {
          "output_type": "stream",
          "name": "stdout",
          "text": [
            "[29, 40, 101, 253, 300]\n"
          ]
        }
      ]
    },
    {
      "cell_type": "code",
      "source": [
        "number = [ 101 , 40 ,29 ,300 , 253]\n",
        "number.sort(reverse = true)\n",
        "print(number)"
      ],
      "metadata": {
        "id": "KdlcKTz23P80"
      },
      "execution_count": null,
      "outputs": []
    },
    {
      "cell_type": "code",
      "source": [],
      "metadata": {
        "id": "DX8NtWx051CZ"
      },
      "execution_count": null,
      "outputs": []
    }
  ]
}